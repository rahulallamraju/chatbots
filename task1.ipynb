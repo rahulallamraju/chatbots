{
 "cells": [
  {
   "cell_type": "markdown",
   "id": "392c7c56-c116-447e-b433-a2cc4191cdd3",
   "metadata": {},
   "source": [
    "Extract the following financial figures: Total Revenue, Net Income, Total Assets, Total Liabilities, and Cash Flow from Operating Activities.\n"
   ]
  },
  {
   "cell_type": "code",
   "execution_count": 1,
   "id": "2b5a8dce-1ec7-4acc-b4a4-89644bb66b4c",
   "metadata": {},
   "outputs": [],
   "source": [
    "import pandas as pd"
   ]
  },
  {
   "cell_type": "code",
   "execution_count": 2,
   "id": "ea5e4237-a56e-4f9d-a05e-10b61342da8c",
   "metadata": {},
   "outputs": [],
   "source": [
    "# Correct way to read Excel files\n",
    "df = pd.read_excel('t1.xlsx')"
   ]
  },
  {
   "cell_type": "code",
   "execution_count": 3,
   "id": "07c2b207-5c73-45df-9a40-35d9fe6c05ad",
   "metadata": {},
   "outputs": [
    {
     "data": {
      "text/html": [
       "<div>\n",
       "<style scoped>\n",
       "    .dataframe tbody tr th:only-of-type {\n",
       "        vertical-align: middle;\n",
       "    }\n",
       "\n",
       "    .dataframe tbody tr th {\n",
       "        vertical-align: top;\n",
       "    }\n",
       "\n",
       "    .dataframe thead th {\n",
       "        text-align: right;\n",
       "    }\n",
       "</style>\n",
       "<table border=\"1\" class=\"dataframe\">\n",
       "  <thead>\n",
       "    <tr style=\"text-align: right;\">\n",
       "      <th></th>\n",
       "      <th>Company</th>\n",
       "      <th>Metric</th>\n",
       "      <th>2024</th>\n",
       "      <th>2023</th>\n",
       "      <th>2022</th>\n",
       "    </tr>\n",
       "  </thead>\n",
       "  <tbody>\n",
       "    <tr>\n",
       "      <th>0</th>\n",
       "      <td>Microsoft</td>\n",
       "      <td>Total Revenue(in millions)</td>\n",
       "      <td>245122</td>\n",
       "      <td>211915</td>\n",
       "      <td>198270</td>\n",
       "    </tr>\n",
       "    <tr>\n",
       "      <th>1</th>\n",
       "      <td>Microsoft</td>\n",
       "      <td>Net Income(in millions)</td>\n",
       "      <td>88136</td>\n",
       "      <td>72361</td>\n",
       "      <td>72738</td>\n",
       "    </tr>\n",
       "    <tr>\n",
       "      <th>2</th>\n",
       "      <td>Microsoft</td>\n",
       "      <td>Total Assets(in millions)</td>\n",
       "      <td>512163</td>\n",
       "      <td>411976</td>\n",
       "      <td>364840</td>\n",
       "    </tr>\n",
       "    <tr>\n",
       "      <th>3</th>\n",
       "      <td>Microsoft</td>\n",
       "      <td>Total Liabilities(in millions)</td>\n",
       "      <td>243686</td>\n",
       "      <td>205753</td>\n",
       "      <td>198298</td>\n",
       "    </tr>\n",
       "    <tr>\n",
       "      <th>4</th>\n",
       "      <td>Microsoft</td>\n",
       "      <td>Operating Cash Flow(in millions)</td>\n",
       "      <td>118548</td>\n",
       "      <td>87582</td>\n",
       "      <td>89035</td>\n",
       "    </tr>\n",
       "    <tr>\n",
       "      <th>5</th>\n",
       "      <td>Tesla</td>\n",
       "      <td>Total Revenue(in millions)</td>\n",
       "      <td>97690</td>\n",
       "      <td>96773</td>\n",
       "      <td>81462</td>\n",
       "    </tr>\n",
       "    <tr>\n",
       "      <th>6</th>\n",
       "      <td>Tesla</td>\n",
       "      <td>Net Income(in millions)</td>\n",
       "      <td>7153</td>\n",
       "      <td>14974</td>\n",
       "      <td>12587</td>\n",
       "    </tr>\n",
       "    <tr>\n",
       "      <th>7</th>\n",
       "      <td>Tesla</td>\n",
       "      <td>Total Assets(in millions)</td>\n",
       "      <td>122070</td>\n",
       "      <td>106618</td>\n",
       "      <td>82338</td>\n",
       "    </tr>\n",
       "    <tr>\n",
       "      <th>8</th>\n",
       "      <td>Tesla</td>\n",
       "      <td>Total Liabilities(in millions)</td>\n",
       "      <td>48390</td>\n",
       "      <td>43009</td>\n",
       "      <td>36440</td>\n",
       "    </tr>\n",
       "    <tr>\n",
       "      <th>9</th>\n",
       "      <td>Tesla</td>\n",
       "      <td>Operating Cash Flow(in millions)</td>\n",
       "      <td>14923</td>\n",
       "      <td>13256</td>\n",
       "      <td>14724</td>\n",
       "    </tr>\n",
       "    <tr>\n",
       "      <th>10</th>\n",
       "      <td>Apple</td>\n",
       "      <td>Total Revenue(in millions)</td>\n",
       "      <td>7700</td>\n",
       "      <td>8200</td>\n",
       "      <td>7500</td>\n",
       "    </tr>\n",
       "    <tr>\n",
       "      <th>11</th>\n",
       "      <td>Apple</td>\n",
       "      <td>Net Income(in millions)</td>\n",
       "      <td>93736</td>\n",
       "      <td>96995</td>\n",
       "      <td>99803</td>\n",
       "    </tr>\n",
       "    <tr>\n",
       "      <th>12</th>\n",
       "      <td>Apple</td>\n",
       "      <td>Total Assets(in millions)</td>\n",
       "      <td>364980</td>\n",
       "      <td>352583</td>\n",
       "      <td>352755</td>\n",
       "    </tr>\n",
       "    <tr>\n",
       "      <th>13</th>\n",
       "      <td>Apple</td>\n",
       "      <td>Total Liabilities(in millions)</td>\n",
       "      <td>308030</td>\n",
       "      <td>290437</td>\n",
       "      <td>302083</td>\n",
       "    </tr>\n",
       "    <tr>\n",
       "      <th>14</th>\n",
       "      <td>Apple</td>\n",
       "      <td>Operating Cash Flow(in millions)</td>\n",
       "      <td>118254</td>\n",
       "      <td>110543</td>\n",
       "      <td>122151</td>\n",
       "    </tr>\n",
       "  </tbody>\n",
       "</table>\n",
       "</div>"
      ],
      "text/plain": [
       "      Company                            Metric    2024    2023    2022\n",
       "0   Microsoft        Total Revenue(in millions)  245122  211915  198270\n",
       "1   Microsoft           Net Income(in millions)   88136   72361   72738\n",
       "2   Microsoft         Total Assets(in millions)  512163  411976  364840\n",
       "3   Microsoft    Total Liabilities(in millions)  243686  205753  198298\n",
       "4   Microsoft  Operating Cash Flow(in millions)  118548   87582   89035\n",
       "5       Tesla        Total Revenue(in millions)   97690   96773   81462\n",
       "6       Tesla           Net Income(in millions)    7153   14974   12587\n",
       "7       Tesla         Total Assets(in millions)  122070  106618   82338\n",
       "8       Tesla    Total Liabilities(in millions)   48390   43009   36440\n",
       "9       Tesla  Operating Cash Flow(in millions)   14923   13256   14724\n",
       "10      Apple        Total Revenue(in millions)    7700    8200    7500\n",
       "11      Apple           Net Income(in millions)   93736   96995   99803\n",
       "12      Apple         Total Assets(in millions)  364980  352583  352755\n",
       "13      Apple    Total Liabilities(in millions)  308030  290437  302083\n",
       "14      Apple  Operating Cash Flow(in millions)  118254  110543  122151"
      ]
     },
     "execution_count": 3,
     "metadata": {},
     "output_type": "execute_result"
    }
   ],
   "source": [
    "df"
   ]
  },
  {
   "cell_type": "code",
   "execution_count": 4,
   "id": "749a19e0-ab3f-4146-9c19-3b3d95d55944",
   "metadata": {},
   "outputs": [
    {
     "name": "stdout",
     "output_type": "stream",
     "text": [
      "Total Revenue Year-over-Year Changes:\n",
      "      Company  2024_vs_2023_Change(%)  2023_vs_2022_Change(%)\n",
      "0   Microsoft                   15.67                    6.88\n",
      "5       Tesla                    0.95                   18.80\n",
      "10      Apple                   -6.10                    9.33\n"
     ]
    }
   ],
   "source": [
    "# Filter for Total Revenue rows only\n",
    "revenue_df = df[df['Metric'] == 'Total Revenue(in millions)'].copy()\n",
    "\n",
    "# Calculate year-over-year percentage changes\n",
    "revenue_df['2024_vs_2023_Change(%)'] = ((revenue_df.iloc[:, 2] - revenue_df.iloc[:, 3]) / revenue_df.iloc[:, 3]) * 100\n",
    "revenue_df['2023_vs_2022_Change(%)'] = ((revenue_df.iloc[:, 3] - revenue_df.iloc[:, 4]) / revenue_df.iloc[:, 4]) * 100\n",
    "\n",
    "# Round to 2 decimal places\n",
    "revenue_df['2024_vs_2023_Change(%)'] = revenue_df['2024_vs_2023_Change(%)'].round(2)\n",
    "revenue_df['2023_vs_2022_Change(%)'] = revenue_df['2023_vs_2022_Change(%)'].round(2)\n",
    "\n",
    "# Display results\n",
    "print(\"Total Revenue Year-over-Year Changes:\")\n",
    "print(revenue_df[['Company', '2024_vs_2023_Change(%)', '2023_vs_2022_Change(%)']])\n",
    "\n"
   ]
  },
  {
   "cell_type": "code",
   "execution_count": 5,
   "id": "26a7984c-0afc-4f9a-84d0-69ca8f31942a",
   "metadata": {},
   "outputs": [
    {
     "name": "stdout",
     "output_type": "stream",
     "text": [
      "Net Income Year-over-Year Changes:\n",
      "      Company  2024_vs_2023_Change(%)  2023_vs_2022_Change(%)\n",
      "1   Microsoft                   21.80                   -0.52\n",
      "6       Tesla                  -52.23                   18.96\n",
      "11      Apple                   -3.36                   -2.81\n"
     ]
    }
   ],
   "source": [
    "# Filter for Net Income rows only\n",
    "income_df = df[df['Metric'] == 'Net Income(in millions)'].copy()\n",
    "\n",
    "# Calculate year-over-year percentage changes\n",
    "income_df['2024_vs_2023_Change(%)'] = ((income_df.iloc[:, 2] - income_df.iloc[:, 3]) / income_df.iloc[:, 3]) * 100\n",
    "income_df['2023_vs_2022_Change(%)'] = ((income_df.iloc[:, 3] - income_df.iloc[:, 4]) / income_df.iloc[:, 4]) * 100\n",
    "\n",
    "# Round to 2 decimal places\n",
    "income_df['2024_vs_2023_Change(%)'] = income_df['2024_vs_2023_Change(%)'].round(2)\n",
    "income_df['2023_vs_2022_Change(%)'] = income_df['2023_vs_2022_Change(%)'].round(2)\n",
    "\n",
    "# Display results\n",
    "print(\"Net Income Year-over-Year Changes:\")\n",
    "print(income_df[['Company', '2024_vs_2023_Change(%)', '2023_vs_2022_Change(%)']])"
   ]
  },
  {
   "cell_type": "code",
   "execution_count": 6,
   "id": "1bd2907a-0d05-41ce-8b42-caaa4db2589f",
   "metadata": {},
   "outputs": [
    {
     "name": "stdout",
     "output_type": "stream",
     "text": [
      "Operating Cash Flow Year-over-Year Changes:\n",
      "      Company  2024_vs_2023_Change(%)  2023_vs_2022_Change(%)\n",
      "4   Microsoft                   35.36                   -1.63\n",
      "9       Tesla                   12.58                   -9.97\n",
      "14      Apple                    6.98                   -9.50\n"
     ]
    }
   ],
   "source": [
    "# Filter for Operating Cash Flow rows only\n",
    "cashflow_df = df[df['Metric'] == 'Operating Cash Flow(in millions)'].copy()\n",
    "\n",
    "# Calculate year-over-year percentage changes\n",
    "cashflow_df['2024_vs_2023_Change(%)'] = ((cashflow_df.iloc[:, 2] - cashflow_df.iloc[:, 3]) / cashflow_df.iloc[:, 3]) * 100\n",
    "cashflow_df['2023_vs_2022_Change(%)'] = ((cashflow_df.iloc[:, 3] - cashflow_df.iloc[:, 4]) / cashflow_df.iloc[:, 4]) * 100\n",
    "\n",
    "# Round to 2 decimal places\n",
    "cashflow_df['2024_vs_2023_Change(%)'] = cashflow_df['2024_vs_2023_Change(%)'].round(2)\n",
    "cashflow_df['2023_vs_2022_Change(%)'] = cashflow_df['2023_vs_2022_Change(%)'].round(2)\n",
    "\n",
    "# Display results\n",
    "print(\"Operating Cash Flow Year-over-Year Changes:\")\n",
    "print(cashflow_df[['Company', '2024_vs_2023_Change(%)', '2023_vs_2022_Change(%)']])"
   ]
  },
  {
   "cell_type": "markdown",
   "id": "45bccc50-ea5c-40c4-be12-6ac7de2f4daf",
   "metadata": {},
   "source": [
    "Using pandas data cleaning, I've found out :\n",
    "- The percentage increases from year-to-year of the following categories\n",
    "- Total Revenue\n",
    "- Operating Cash Flow\n",
    "- Net Income\n",
    "\n",
    "Microsoft has been the best performing out of all 3 of these companies as it has been steadily growing in all areas, without any decline in profiteering. \n",
    "\n",
    "Tesla saw a severe decrease in net income, while operating cash flow has been fluctuating. \n",
    "\n",
    "Apple also hasn't been keeping consistent in many areas, except total assets. In other categories, numbers have been increasing and decreasing. There is no steady trend. "
   ]
  },
  {
   "cell_type": "code",
   "execution_count": 7,
   "id": "70252b6a-dba0-43d5-b8b4-67b6305b0911",
   "metadata": {},
   "outputs": [
    {
     "name": "stdout",
     "output_type": "stream",
     "text": [
      "Requirement already satisfied: pandoc in /Users/rahulallamraju/Library/jupyterlab-desktop/jlab_server/lib/python3.8/site-packages (2.4)\n",
      "Requirement already satisfied: plumbum in /Users/rahulallamraju/Library/jupyterlab-desktop/jlab_server/lib/python3.8/site-packages (from pandoc) (1.9.0)\n",
      "Requirement already satisfied: ply in /Users/rahulallamraju/Library/jupyterlab-desktop/jlab_server/lib/python3.8/site-packages (from pandoc) (3.11)\n",
      "Requirement already satisfied: importlib-resources in /Users/rahulallamraju/Library/jupyterlab-desktop/jlab_server/lib/python3.8/site-packages (from plumbum->pandoc) (6.1.0)\n",
      "Requirement already satisfied: zipp>=3.1.0 in /Users/rahulallamraju/Library/jupyterlab-desktop/jlab_server/lib/python3.8/site-packages (from importlib-resources->plumbum->pandoc) (3.17.0)\n",
      "Note: you may need to restart the kernel to use updated packages.\n"
     ]
    }
   ],
   "source": [
    "pip install pandoc"
   ]
  },
  {
   "cell_type": "code",
   "execution_count": null,
   "id": "7fe6e3f2-7e7a-4cce-8c7d-6c5f18ca660a",
   "metadata": {},
   "outputs": [],
   "source": []
  }
 ],
 "metadata": {
  "kernelspec": {
   "display_name": "Python 3 (ipykernel)",
   "language": "python",
   "name": "python3"
  },
  "language_info": {
   "codemirror_mode": {
    "name": "ipython",
    "version": 3
   },
   "file_extension": ".py",
   "mimetype": "text/x-python",
   "name": "python",
   "nbconvert_exporter": "python",
   "pygments_lexer": "ipython3",
   "version": "3.8.18"
  }
 },
 "nbformat": 4,
 "nbformat_minor": 5
}
